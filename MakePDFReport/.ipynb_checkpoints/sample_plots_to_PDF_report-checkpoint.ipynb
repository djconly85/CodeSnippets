{
 "cells": [
  {
   "cell_type": "code",
   "execution_count": 20,
   "metadata": {},
   "outputs": [
    {
     "data": {
      "image/png": "[encoded data removed]",
      "text/plain": [
       "<Figure size 432x288 with 1 Axes>"
      ]
     },
     "metadata": {
      "needs_background": "light"
     },
     "output_type": "display_data"
    }
   ],
   "source": [
    "# https://medium.com/@anilbak69/5-python-pandas-tricks-to-make-data-analysis-7151b8fa0968\n",
    "import pandas as pd\n",
    "\n",
    "\n",
    "\n",
    "# part 1, generate and save the chart you'll use in the report\n",
    "chart_fig = (\"test_scatter.png\")\n",
    "\n",
    "df = pd.util.testing.makeDataFrame()\n",
    "\n",
    "fig = df.plot(x='A', y='B', kind='scatter').get_figure()\n",
    "fig.savefig(chart_fig)\n",
    "\n",
    "    "
   ]
  },
  {
   "cell_type": "code",
   "execution_count": 65,
   "metadata": {},
   "outputs": [
    {
     "name": "stdout",
     "output_type": "stream",
     "text": [
      "created file /Users/darrenconly/PythonProjects/CodeSnippets/MakePDFReport/Pg_w_chart.pdf\n"
     ]
    }
   ],
   "source": [
    "# part 2: set up a page template with desired properties\n",
    "import os\n",
    "\n",
    "from reportlab.platypus import SimpleDocTemplate, Paragraph, Spacer, PageBreak, Image\n",
    "from reportlab.lib.styles import ParagraphStyle\n",
    "from reportlab.rl_config import defaultPageSize\n",
    "from reportlab.lib.units import inch\n",
    "\n",
    "def page_template(canvas, doc):\n",
    "    '''\n",
    "    End Goal document:\n",
    "        8.5 x 11\" sheet\n",
    "        1\" margins all around\n",
    "        Content on page:\n",
    "            Justified paragraph describing the project\n",
    "            Centered chart\n",
    "            Another justified paragraph describing the chart\n",
    "            Left-flushed footer with author's name and report title\n",
    "            right-flushed footer with page number\n",
    "    '''\n",
    "    \n",
    "    # save the current state before this function makes its changes state changes (e.g. change\n",
    "    # font, line styles, etc.)\n",
    "    canvas.saveState() \n",
    "\n",
    "    # define pg dimensions\n",
    "    pg_height = 11 * inch\n",
    "    pg_width = 8.5 * inch\n",
    "    \n",
    "    \n",
    "# set up new doc object\n",
    "out_pdf_name = \"Pg_w_chart.pdf\"\n",
    "doc = SimpleDocTemplate(out_pdf_name)\n",
    "\n",
    "Story = []\n",
    "\n",
    "title_txt = \"Example PDF Chart Report!\"\n",
    "\n",
    "# Paragraph(text, style, bulletText=None)\n",
    "# alignment params: 0=left flush, 1=centered, 2=right flush\n",
    "title_style = ParagraphStyle(\"Title\", fontSize=18, spaceAfter=1 * inch, alignment=1)\n",
    "title = Paragraph(title_txt, title_style)\n",
    "\n",
    "Story.append(title)\n",
    "# Story.append(Spacer(1, 1 * inch))\n",
    "\n",
    "img_obj = Image(chart_fig)\n",
    "Story.append(img_obj)\n",
    "\n",
    "doc.build(Story, onFirstPage=page_template, onLaterPages=page_template)\n",
    "print(\"created file {}\".format(os.path.join(os.getcwd(), out_pdf_name)))\n",
    "    "
   ]
  },
  {
   "cell_type": "code",
   "execution_count": 71,
   "metadata": {},
   "outputs": [
    {
     "name": "stdout",
     "output_type": "stream",
     "text": [
      "CENTER\n"
     ]
    }
   ],
   "source": [
    "import reportlab\n",
    "print(img_obj.hAlign)"
   ]
  }
 ],
 "metadata": {
  "kernelspec": {
   "display_name": "Python 3",
   "language": "python",
   "name": "python3"
  },
  "language_info": {
   "codemirror_mode": {
    "name": "ipython",
    "version": 3
   },
   "file_extension": ".py",
   "mimetype": "text/x-python",
   "name": "python",
   "nbconvert_exporter": "python",
   "pygments_lexer": "ipython3",
   "version": "3.7.6"
  }
 },
 "nbformat": 4,
 "nbformat_minor": 4
}

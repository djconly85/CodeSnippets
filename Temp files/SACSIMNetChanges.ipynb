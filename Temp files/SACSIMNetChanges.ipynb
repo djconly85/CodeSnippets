{
 "cells": [
  {
   "cell_type": "code",
   "execution_count": 7,
   "metadata": {},
   "outputs": [],
   "source": [
    "import os\n",
    "import re\n",
    "\n",
    "import pandas as pd\n",
    "import dbfread\n",
    "\n",
    "\n",
    "# ==========INPUTS=========================\n",
    "# input DBF\n",
    "dbf_in = r\"Q:\\SACSIM19\\2020MTP\\highway\\network update\\NetworkGIS\\DBF\\Link\\masterSM19ProjCoding_latest_10222020.dbf\"\n",
    "\n",
    "col_sactrak = \"SACTRAK\"\n",
    "col_phase2 = \"PHASE2\"\n",
    "col_A = \"A\"\n",
    "col_B = \"B\"\n",
    "\n",
    "prefx_speed = \"SPD\"\n",
    "prefx_capclass = \"CAPC\"\n",
    "prefx_lanes = \"LANE\"\n",
    "prefx_bike = \"BIKE\"\n",
    "\n",
    "basecols = [col_A, col_B, col_sactrak, col_phase2]\n",
    "\n",
    "dbf = dbfread.DBF(dbf_in)\n",
    "df = pd.DataFrame(iter(dbf))"
   ]
  },
  {
   "cell_type": "code",
   "execution_count": 54,
   "metadata": {},
   "outputs": [
    {
     "name": "stdout",
     "output_type": "stream",
     "text": [
      "['A', 'B', 'SACTRAK', 'PHASE2', 'LANE05', 'LANE08', 'LANE12', 'LANE14', 'LANE16', 'LANE17', 'LANE18', 'LANE20', 'LANE21', 'LANE22', 'LANE23', 'LANE24', 'LANE25', 'LANE26', 'LANE27', 'LANE30', 'LANE32', 'LANE35_AP', 'LANE35_DPS', 'LANE36', 'LANE40_AP', 'LANE40_DPS']\n"
     ]
    },
    {
     "name": "stderr",
     "output_type": "stream",
     "text": [
      "C:\\Users\\dconly\\AppData\\Local\\ESRI\\conda\\envs\\arcgispro-py3-clone\\lib\\site-packages\\ipykernel_launcher.py:11: SettingWithCopyWarning: \n",
      "A value is trying to be set on a copy of a slice from a DataFrame.\n",
      "Try using .loc[row_indexer,col_indexer] = value instead\n",
      "\n",
      "See the caveats in the documentation: https://pandas.pydata.org/pandas-docs/stable/user_guide/indexing.html#returning-a-view-versus-a-copy\n",
      "  # This is added back by InteractiveShellApp.init_path()\n"
     ]
    },
    {
     "data": {
      "text/plain": [
       "A                      2777\n",
       "B                      2782\n",
       "SACTRAK            PLA25044\n",
       "PHASE2                     \n",
       "LANE05                    1\n",
       "LANE08                    1\n",
       "LANE12                    1\n",
       "LANE14                    1\n",
       "LANE16                    1\n",
       "LANE17                    1\n",
       "LANE18                    1\n",
       "LANE20                    1\n",
       "LANE21                    1\n",
       "LANE22                    1\n",
       "LANE23                    1\n",
       "LANE24                    1\n",
       "LANE25                    3\n",
       "LANE26                    3\n",
       "LANE27                    3\n",
       "LANE30                    3\n",
       "LANE32                    3\n",
       "LANE35_AP                 3\n",
       "LANE35_DPS                3\n",
       "LANE36                    3\n",
       "LANE40_AP                 3\n",
       "LANE40_DPS                3\n",
       "unique_lanevals      [1, 3]\n",
       "Name: 6026, dtype: object"
      ]
     },
     "execution_count": 54,
     "metadata": {},
     "output_type": "execute_result"
    }
   ],
   "source": [
    "all_cols = df.columns\n",
    "re_lanecol = re.compile('LANE\\d+')\n",
    "\n",
    "cols_to_drop = ['LANE40_DS', 'LANE40_DST', 'LANE26_OLD', 'LANE20_16', 'LANE27_16', 'LANE35_16', 'LANE36_16']\n",
    "lanecols = [c for c in all_cols if re.search(re_lanecol, c) and c not in cols_to_drop]\n",
    "\n",
    "usecols = basecols + lanecols\n",
    "print(usecols)\n",
    "\n",
    "df2 = df[usecols]\n",
    "df2['unique_lanevals'] = df2[lanecols].apply(pd.Series.unique, axis=1)\n",
    "\n",
    "df3 = df2[basecols +['unique_lanevals']]\n",
    "df2.iloc[6026]"
   ]
  },
  {
   "cell_type": "code",
   "execution_count": 56,
   "metadata": {},
   "outputs": [],
   "source": [
    "\n",
    "df3.columns\n",
    "df3.to_csv('link_lane_changes.csv')"
   ]
  }
 ],
 "metadata": {
  "kernelspec": {
   "display_name": "Python 3",
   "language": "python",
   "name": "python3"
  },
  "language_info": {
   "codemirror_mode": {
    "name": "ipython",
    "version": 3
   },
   "file_extension": ".py",
   "mimetype": "text/x-python",
   "name": "python",
   "nbconvert_exporter": "python",
   "pygments_lexer": "ipython3",
   "version": "3.6.12"
  }
 },
 "nbformat": 4,
 "nbformat_minor": 4
}

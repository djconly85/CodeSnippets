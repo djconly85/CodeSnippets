{
 "cells": [
  {
   "cell_type": "code",
   "execution_count": 44,
   "metadata": {},
   "outputs": [],
   "source": [
    "#EXAMPLE 1 - LOAD A CSV WITH THE MOST EFFICIENT MEMORY TYPES\n",
    "\n",
    "import pandas as pd\n",
    "\n",
    "in_csv = r\"C:\\Users\\dconly\\Desktop\\Temporary\\Replica Select Link Data\\I5_AmRiver\\trips_wednesday_mar2019-may2019_sacramento_1filters_created11-24-2020\\trips_wednesday_mar2019-may2019_sacramento_1filters_created11-24-2020.csv\"\n",
    "\n",
    "df_normal_load = pd.read_csv(in_csv)\n",
    "\n",
    "# dict to specify dtypes so that most efficient possible are used rather than defaults.\n",
    "# NOTE that you need to know ahead of time what the dtypes needed are\n",
    "column_dtypes = {#'activity_id':'int64',\n",
    "    #'person_id':'int64',\n",
    "    'mode':'category',\n",
    "    'travel_purpose':'category',\n",
    "    'previous_activity_type':'category',\n",
    "    'start_local_hour':'int8',\n",
    "    'end_local_hour':'int8',\n",
    "    'origin_cty':'int32',\n",
    "    #'origin_bgrp':'int64',\n",
    "    'destination_cty':'int32'\n",
    "    # 'destination_bgrp':'int64'\n",
    "    }\n",
    "\n",
    "# can load datetime cols as dates rather than strings but need to specify\n",
    "# which cols you want to do this to.\n",
    "datetime_cols = ['start_time', 'end_time']\n",
    "\n",
    "df_optimized_load = pd.read_csv(in_csv, dtype=column_dtypes, parse_dates=datetime_cols) # parse_dates=datetime_cols"
   ]
  },
  {
   "cell_type": "code",
   "execution_count": 26,
   "metadata": {},
   "outputs": [
    {
     "name": "stdout",
     "output_type": "stream",
     "text": [
      "non-optimized uses 40667.2060546875 MB of memory\n",
      "optimized uses 22575.642578125 MB of memory\n"
     ]
    }
   ],
   "source": [
    "normal_load_usage = df_normal_load.memory_usage(deep=True).sum()/1024\n",
    "optimized_load_usage = df_optimized_load.memory_usage(deep=True).sum()/1024\n",
    "\n",
    "print(f\"non-optimized uses {normal_load_usage} MB of memory\")\n",
    "print(f\"optimized uses {optimized_load_usage} MB of memory\")"
   ]
  },
  {
   "cell_type": "code",
   "execution_count": 56,
   "metadata": {},
   "outputs": [
    {
     "name": "stdout",
     "output_type": "stream",
     "text": [
      "non-optimized uses 40667.2060546875 MB of memory\n",
      "optimized uses 14278.455078125 MB of memory\n"
     ]
    }
   ],
   "source": [
    "# EXAMPLE FUNCTION TO MINIMIZE A DATAFRAME MEMORY CONSUMPTION AFTER LOADING\n",
    "def df_optimize(in_df):\n",
    "    # common default data types that can be reduced to more memory-efficient type\n",
    "    dtype_obj = 'object'\n",
    "    dtypes_int = ['int64', 'uint64']\n",
    "    dtypes_float = ['float64']\n",
    "    \n",
    "    # category dtype is far more efficient way to store strings if not many unique string values.\n",
    "    dtype_category = 'category'\n",
    "    \n",
    "    for col in in_df.columns:\n",
    "        start_dtype = in_df[col].dtype\n",
    "        if start_dtype in dtypes_int:\n",
    "            in_df[col] = pd.to_numeric(in_df[col], downcast='integer') # sets to biggest size necessary, not biggest size possible\n",
    "        elif start_dtype in dtypes_float:\n",
    "            in_df[col] = pd.to_numeric(in_df[col], downcast='float')\n",
    "        elif start_dtype == dtype_obj:\n",
    "            # if number of unique string vals is less than 40% of the total number of vals in column,\n",
    "            # then recode as category instead of string, which will save significant memory\n",
    "            if len(in_df[col].unique()) / len(in_df[col]) < 0.4:\n",
    "                in_df[col] = in_df[col].astype('category')\n",
    "            else:\n",
    "                continue\n",
    "        else:\n",
    "            continue\n",
    "            \n",
    "df_optimize(df_optimized_load)\n",
    "\n",
    "normal_load_usage = df_normal_load.memory_usage(deep=True).sum()/1024\n",
    "optimized_load_usage = df_optimized_load.memory_usage(deep=True).sum()/1024\n",
    "\n",
    "print(f\"non-optimized uses {normal_load_usage} MB of memory\")\n",
    "print(f\"optimized uses {optimized_load_usage} MB of memory\")"
   ]
  }
 ],
 "metadata": {
  "kernelspec": {
   "display_name": "Python 3",
   "language": "python",
   "name": "python3"
  },
  "language_info": {
   "codemirror_mode": {
    "name": "ipython",
    "version": 3
   },
   "file_extension": ".py",
   "mimetype": "text/x-python",
   "name": "python",
   "nbconvert_exporter": "python",
   "pygments_lexer": "ipython3",
   "version": "3.7.6"
  }
 },
 "nbformat": 4,
 "nbformat_minor": 4
}

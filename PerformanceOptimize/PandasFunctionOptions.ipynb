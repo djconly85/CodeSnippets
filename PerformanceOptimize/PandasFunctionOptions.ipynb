{
 "cells": [
  {
   "cell_type": "code",
   "execution_count": 1,
   "metadata": {},
   "outputs": [
    {
     "data": {
      "text/plain": [
       "'Purpose:\\n    In Pandas, you sometimes need to do a complex calculation to calculate a new column.\\n    Examples\\n    '"
      ]
     },
     "execution_count": 1,
     "metadata": {},
     "output_type": "execute_result"
    }
   ],
   "source": [
    "\"\"\"Purpose:\n",
    "    In Pandas, you sometimes need to do a complex calculation to calculate a new column.\n",
    "    Examples:\n",
    "        -Recode a column with values 'a','b','c' to be human-readable values like 'birds', 'cats','dogs'\n",
    "        -conditionally do different operations on each value of a field, based on the value of\n",
    "        another field (e.g. if field 1 = \"bird\" then multiply field 2 by x; if field 1 = \"dog\"\n",
    "        then calculat 2 ^ x).\n",
    "        \n",
    "    NOTE - for simple operations (e.g. field 3 = field 1+field 2, f3 = f1*f2), use Pandas builtin\n",
    "    functions, e.g. use df['new field'] = df['f1'] * df['f2'] instead of doing an apply or other row-wise function\n",
    "    \"\"\"\n",
    "\n",
    "import pandas as pd\n",
    "import numpy as np\n",
    "\n",
    "#make testing dataframe of random integers with values 0-10, 4 cols, 100,000 rows\n",
    "df = pd.DataFrame(np.random.randint(0,10, size=(100000, 4)), columns=['a','b','c','d'])\n"
   ]
  },
  {
   "cell_type": "code",
   "execution_count": null,
   "metadata": {},
   "outputs": [],
   "source": [
    "# OPTION 1: dataframe built-in function to sum and multiply\n",
    "\n",
    "df['sum_all'] = df.sum(axis=1)\n",
    "\n",
    "df.head()"
   ]
  }
 ],
 "metadata": {
  "kernelspec": {
   "display_name": "Python 3",
   "language": "python",
   "name": "python3"
  },
  "language_info": {
   "codemirror_mode": {
    "name": "ipython",
    "version": 3
   },
   "file_extension": ".py",
   "mimetype": "text/x-python",
   "name": "python",
   "nbconvert_exporter": "python",
   "pygments_lexer": "ipython3",
   "version": "3.7.6"
  }
 },
 "nbformat": 4,
 "nbformat_minor": 4
}

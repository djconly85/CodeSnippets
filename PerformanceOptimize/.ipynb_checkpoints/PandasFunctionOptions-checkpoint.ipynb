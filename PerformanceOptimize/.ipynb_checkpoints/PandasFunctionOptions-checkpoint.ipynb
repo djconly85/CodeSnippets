{
 "cells": [
  {
   "cell_type": "code",
   "execution_count": 23,
   "metadata": {},
   "outputs": [],
   "source": [
    "\"\"\"Purpose:\n",
    "    In Pandas, you sometimes need to do a complex calculation to calculate a new column.\n",
    "    Examples:\n",
    "        -Recode a column with values 'a','b','c' to be human-readable values like 'birds', 'cats','dogs'\n",
    "        -conditionally do different operations on each value of a field, based on the value of\n",
    "        another field (e.g. if field 1 = \"bird\" then multiply field 2 by x; if field 1 = \"dog\"\n",
    "        then calculat 2 ^ x).\n",
    "        \n",
    "    NOTE - for simple operations (e.g. field 3 = field 1+field 2, f3 = f1*f2), use Pandas builtin\n",
    "    functions, e.g. use df['new field'] = df['f1'] * df['f2'] instead of doing an apply or other row-wise function\n",
    "    \"\"\"\n",
    "\n",
    "import pandas as pd\n",
    "import numpy as np\n",
    "\n",
    "#make testing dataframe of random integers with values 0-10, 4 cols, 100,000 rows\n",
    "df = pd.DataFrame(np.random.randint(0,10, size=(300000, 4)), columns=['a','b','c','d'])\n"
   ]
  },
  {
   "cell_type": "code",
   "execution_count": 24,
   "metadata": {},
   "outputs": [
    {
     "name": "stdout",
     "output_type": "stream",
     "text": [
      "1.1 ms ± 8.27 µs per loop (mean ± std. dev. of 7 runs, 1000 loops each)\n"
     ]
    }
   ],
   "source": [
    "# OPTION 1: dataframe built-in function to sum \n",
    "\n",
    "def sum_w_pd_builtin(in_df):\n",
    "    return (in_df['a'] + in_df['b']).sum()\n",
    "\n",
    "%timeit sum_w_pd_builtin(df)\n",
    "\n",
    "\n"
   ]
  },
  {
   "cell_type": "code",
   "execution_count": 25,
   "metadata": {},
   "outputs": [
    {
     "name": "stdout",
     "output_type": "stream",
     "text": [
      "6.16 s ± 51.8 ms per loop (mean ± std. dev. of 7 runs, 1 loop each)\n"
     ]
    }
   ],
   "source": [
    "# OPTION 2: using df.apply to sum row wise for same colums\n",
    "\n",
    "\n",
    "def sum_using_apply(in_df):\n",
    "    return in_df.apply(lambda x: x['a'] + x['b'], axis=1).sum()\n",
    "    \n",
    "%timeit sum_using_apply(df)"
   ]
  },
  {
   "cell_type": "code",
   "execution_count": 38,
   "metadata": {},
   "outputs": [
    {
     "name": "stdout",
     "output_type": "stream",
     "text": [
      "CPU times: user 2 µs, sys: 0 ns, total: 2 µs\n",
      "Wall time: 5.96 µs\n"
     ]
    },
    {
     "data": {
      "text/html": [
       "<div>\n",
       "<style scoped>\n",
       "    .dataframe tbody tr th:only-of-type {\n",
       "        vertical-align: middle;\n",
       "    }\n",
       "\n",
       "    .dataframe tbody tr th {\n",
       "        vertical-align: top;\n",
       "    }\n",
       "\n",
       "    .dataframe thead th {\n",
       "        text-align: right;\n",
       "    }\n",
       "</style>\n",
       "<table border=\"1\" class=\"dataframe\">\n",
       "  <thead>\n",
       "    <tr style=\"text-align: right;\">\n",
       "      <th></th>\n",
       "      <th>a</th>\n",
       "      <th>b</th>\n",
       "      <th>c</th>\n",
       "      <th>d</th>\n",
       "      <th>newcol</th>\n",
       "    </tr>\n",
       "  </thead>\n",
       "  <tbody>\n",
       "    <tr>\n",
       "      <th>0</th>\n",
       "      <td>7</td>\n",
       "      <td>8</td>\n",
       "      <td>5</td>\n",
       "      <td>6</td>\n",
       "      <td>na</td>\n",
       "    </tr>\n",
       "    <tr>\n",
       "      <th>1</th>\n",
       "      <td>7</td>\n",
       "      <td>9</td>\n",
       "      <td>7</td>\n",
       "      <td>1</td>\n",
       "      <td>a</td>\n",
       "    </tr>\n",
       "    <tr>\n",
       "      <th>2</th>\n",
       "      <td>9</td>\n",
       "      <td>5</td>\n",
       "      <td>0</td>\n",
       "      <td>8</td>\n",
       "      <td>na</td>\n",
       "    </tr>\n",
       "    <tr>\n",
       "      <th>3</th>\n",
       "      <td>4</td>\n",
       "      <td>5</td>\n",
       "      <td>8</td>\n",
       "      <td>7</td>\n",
       "      <td>na</td>\n",
       "    </tr>\n",
       "    <tr>\n",
       "      <th>4</th>\n",
       "      <td>2</td>\n",
       "      <td>8</td>\n",
       "      <td>4</td>\n",
       "      <td>5</td>\n",
       "      <td>na</td>\n",
       "    </tr>\n",
       "  </tbody>\n",
       "</table>\n",
       "</div>"
      ],
      "text/plain": [
       "   a  b  c  d newcol\n",
       "0  7  8  5  6     na\n",
       "1  7  9  7  1      a\n",
       "2  9  5  0  8     na\n",
       "3  4  5  8  7     na\n",
       "4  2  8  4  5     na"
      ]
     },
     "execution_count": 38,
     "metadata": {},
     "output_type": "execute_result"
    }
   ],
   "source": [
    "#DICT LOOKUP FOR A NEW COLUMN, USING APPLY\n",
    "ldict = {1:'a', 2:'b', 3:'c', 4:'d'}\n",
    "\n",
    "\n",
    "def make_dict_col(x, df_field, in_dict):\n",
    "    if x[df_field] in in_dict.keys():\n",
    "        out_val = in_dict[x[df_field]]\n",
    "    else:\n",
    "        out_val = 'na'\n",
    "    return out_val\n",
    "\n",
    "%time\n",
    "df['newcol'] = df.apply(lambda x: make_dict_col(x, 'd', ldict), axis=1)\n",
    "df.head()\n",
    "\n"
   ]
  },
  {
   "cell_type": "code",
   "execution_count": 39,
   "metadata": {},
   "outputs": [
    {
     "data": {
      "text/html": [
       "<div>\n",
       "<style scoped>\n",
       "    .dataframe tbody tr th:only-of-type {\n",
       "        vertical-align: middle;\n",
       "    }\n",
       "\n",
       "    .dataframe tbody tr th {\n",
       "        vertical-align: top;\n",
       "    }\n",
       "\n",
       "    .dataframe thead th {\n",
       "        text-align: right;\n",
       "    }\n",
       "</style>\n",
       "<table border=\"1\" class=\"dataframe\">\n",
       "  <thead>\n",
       "    <tr style=\"text-align: right;\">\n",
       "      <th></th>\n",
       "      <th>a</th>\n",
       "      <th>b</th>\n",
       "      <th>c</th>\n",
       "      <th>d</th>\n",
       "      <th>newcol</th>\n",
       "      <th>a_2</th>\n",
       "    </tr>\n",
       "  </thead>\n",
       "  <tbody>\n",
       "    <tr>\n",
       "      <th>0</th>\n",
       "      <td>7</td>\n",
       "      <td>8</td>\n",
       "      <td>5</td>\n",
       "      <td>6</td>\n",
       "      <td>na</td>\n",
       "      <td>na</td>\n",
       "    </tr>\n",
       "    <tr>\n",
       "      <th>1</th>\n",
       "      <td>7</td>\n",
       "      <td>9</td>\n",
       "      <td>7</td>\n",
       "      <td>1</td>\n",
       "      <td>a</td>\n",
       "      <td>na</td>\n",
       "    </tr>\n",
       "    <tr>\n",
       "      <th>2</th>\n",
       "      <td>9</td>\n",
       "      <td>5</td>\n",
       "      <td>0</td>\n",
       "      <td>8</td>\n",
       "      <td>na</td>\n",
       "      <td>na</td>\n",
       "    </tr>\n",
       "    <tr>\n",
       "      <th>3</th>\n",
       "      <td>4</td>\n",
       "      <td>5</td>\n",
       "      <td>8</td>\n",
       "      <td>7</td>\n",
       "      <td>na</td>\n",
       "      <td>d</td>\n",
       "    </tr>\n",
       "    <tr>\n",
       "      <th>4</th>\n",
       "      <td>2</td>\n",
       "      <td>8</td>\n",
       "      <td>4</td>\n",
       "      <td>5</td>\n",
       "      <td>na</td>\n",
       "      <td>b</td>\n",
       "    </tr>\n",
       "  </tbody>\n",
       "</table>\n",
       "</div>"
      ],
      "text/plain": [
       "   a  b  c  d newcol a_2\n",
       "0  7  8  5  6     na  na\n",
       "1  7  9  7  1      a  na\n",
       "2  9  5  0  8     na  na\n",
       "3  4  5  8  7     na   d\n",
       "4  2  8  4  5     na   b"
      ]
     },
     "execution_count": 39,
     "metadata": {},
     "output_type": "execute_result"
    }
   ],
   "source": [
    "ldict = {1:'a', 2:'b', 3:'c', 4:'d'}\n",
    "\n",
    "\n",
    "%time\n",
    "def recoder(in_df, in_recode_dict, src_col_name, dest_col_name, nullval=None):\n",
    "    newcol_list = []\n",
    "    for i in in_df[src_col_name]:\n",
    "        if i in in_recode_dict.keys():\n",
    "            outval = in_recode_dict[i]\n",
    "        else:\n",
    "            outval=nullval\n",
    "        newcol_list.append(outval)\n",
    "\n",
    "    ncolser = pd.Series(newcol_list)\n",
    "    ncolser = ncolser.rename(dest_col_name)\n",
    "\n",
    "    return df.merge(ncolser, left_index=True, right_index=True)\n",
    "\n",
    "df2 = recoder(df, ldict, 'a', 'a_2', nullval='na')\n",
    "\n",
    "df2.head()"
   ]
  }
 ],
 "metadata": {
  "kernelspec": {
   "display_name": "Python 3",
   "language": "python",
   "name": "python3"
  },
  "language_info": {
   "codemirror_mode": {
    "name": "ipython",
    "version": 3
   },
   "file_extension": ".py",
   "mimetype": "text/x-python",
   "name": "python",
   "nbconvert_exporter": "python",
   "pygments_lexer": "ipython3",
   "version": "3.7.6"
  }
 },
 "nbformat": 4,
 "nbformat_minor": 4
}

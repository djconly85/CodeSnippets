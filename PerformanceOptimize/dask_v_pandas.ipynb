{
 "cells": [
  {
   "cell_type": "code",
   "execution_count": 6,
   "metadata": {},
   "outputs": [
    {
     "name": "stdout",
     "output_type": "stream",
     "text": [
      "Wall time: 45.9 ms\n"
     ]
    }
   ],
   "source": [
    "# https://examples.dask.org/dataframe.html\n",
    "\n",
    "%%time\n",
    "import dask.dataframe as dd\n",
    "\n",
    "in_csv = r\"\\\\win10-model-1\\Model-1-Data\\SACSIM19\\MTP2020\\amendment_1\\conformity\\2016\\run_2016_baseline_AO13_V7_tazFix_Amend1\\_trip.tsv\"\n",
    "\n",
    "\n",
    "df_dask = dd.read_csv(in_csv, sep='\\t')\n"
   ]
  },
  {
   "cell_type": "code",
   "execution_count": 7,
   "metadata": {},
   "outputs": [
    {
     "name": "stdout",
     "output_type": "stream",
     "text": [
      "Wall time: 1.66 s\n"
     ]
    },
    {
     "data": {
      "text/html": [
       "<div>\n",
       "<style scoped>\n",
       "    .dataframe tbody tr th:only-of-type {\n",
       "        vertical-align: middle;\n",
       "    }\n",
       "\n",
       "    .dataframe tbody tr th {\n",
       "        vertical-align: top;\n",
       "    }\n",
       "\n",
       "    .dataframe thead th {\n",
       "        text-align: right;\n",
       "    }\n",
       "</style>\n",
       "<table border=\"1\" class=\"dataframe\">\n",
       "  <thead>\n",
       "    <tr style=\"text-align: right;\">\n",
       "      <th></th>\n",
       "      <th>id</th>\n",
       "      <th>tour_id</th>\n",
       "      <th>hhno</th>\n",
       "      <th>pno</th>\n",
       "      <th>day</th>\n",
       "      <th>tour</th>\n",
       "      <th>half</th>\n",
       "      <th>tseg</th>\n",
       "      <th>tsvid</th>\n",
       "      <th>opurp</th>\n",
       "      <th>...</th>\n",
       "      <th>pathtype</th>\n",
       "      <th>dorp</th>\n",
       "      <th>deptm</th>\n",
       "      <th>arrtm</th>\n",
       "      <th>endacttm</th>\n",
       "      <th>travtime</th>\n",
       "      <th>travcost</th>\n",
       "      <th>travdist</th>\n",
       "      <th>vot</th>\n",
       "      <th>trexpfac</th>\n",
       "    </tr>\n",
       "  </thead>\n",
       "  <tbody>\n",
       "    <tr>\n",
       "      <th>0</th>\n",
       "      <td>11101</td>\n",
       "      <td>111</td>\n",
       "      <td>11</td>\n",
       "      <td>1</td>\n",
       "      <td>1</td>\n",
       "      <td>1</td>\n",
       "      <td>1</td>\n",
       "      <td>1</td>\n",
       "      <td>0</td>\n",
       "      <td>0</td>\n",
       "      <td>...</td>\n",
       "      <td>1</td>\n",
       "      <td>1</td>\n",
       "      <td>484</td>\n",
       "      <td>486</td>\n",
       "      <td>975</td>\n",
       "      <td>2.327280</td>\n",
       "      <td>0.075163</td>\n",
       "      <td>0.779177</td>\n",
       "      <td>7.463170</td>\n",
       "      <td>1</td>\n",
       "    </tr>\n",
       "    <tr>\n",
       "      <th>1</th>\n",
       "      <td>11151</td>\n",
       "      <td>111</td>\n",
       "      <td>11</td>\n",
       "      <td>1</td>\n",
       "      <td>1</td>\n",
       "      <td>1</td>\n",
       "      <td>2</td>\n",
       "      <td>1</td>\n",
       "      <td>0</td>\n",
       "      <td>1</td>\n",
       "      <td>...</td>\n",
       "      <td>1</td>\n",
       "      <td>1</td>\n",
       "      <td>975</td>\n",
       "      <td>976</td>\n",
       "      <td>179</td>\n",
       "      <td>1.641068</td>\n",
       "      <td>0.075163</td>\n",
       "      <td>0.549432</td>\n",
       "      <td>7.463170</td>\n",
       "      <td>1</td>\n",
       "    </tr>\n",
       "    <tr>\n",
       "      <th>2</th>\n",
       "      <td>7101</td>\n",
       "      <td>71</td>\n",
       "      <td>7</td>\n",
       "      <td>1</td>\n",
       "      <td>1</td>\n",
       "      <td>1</td>\n",
       "      <td>1</td>\n",
       "      <td>1</td>\n",
       "      <td>0</td>\n",
       "      <td>0</td>\n",
       "      <td>...</td>\n",
       "      <td>1</td>\n",
       "      <td>0</td>\n",
       "      <td>1085</td>\n",
       "      <td>1091</td>\n",
       "      <td>1212</td>\n",
       "      <td>6.629101</td>\n",
       "      <td>0.000000</td>\n",
       "      <td>1.104850</td>\n",
       "      <td>3.901648</td>\n",
       "      <td>1</td>\n",
       "    </tr>\n",
       "    <tr>\n",
       "      <th>3</th>\n",
       "      <td>7151</td>\n",
       "      <td>71</td>\n",
       "      <td>7</td>\n",
       "      <td>1</td>\n",
       "      <td>1</td>\n",
       "      <td>1</td>\n",
       "      <td>2</td>\n",
       "      <td>1</td>\n",
       "      <td>0</td>\n",
       "      <td>1</td>\n",
       "      <td>...</td>\n",
       "      <td>1</td>\n",
       "      <td>0</td>\n",
       "      <td>1212</td>\n",
       "      <td>1223</td>\n",
       "      <td>1245</td>\n",
       "      <td>11.641743</td>\n",
       "      <td>0.000000</td>\n",
       "      <td>1.940291</td>\n",
       "      <td>3.901648</td>\n",
       "      <td>1</td>\n",
       "    </tr>\n",
       "    <tr>\n",
       "      <th>4</th>\n",
       "      <td>7152</td>\n",
       "      <td>71</td>\n",
       "      <td>7</td>\n",
       "      <td>1</td>\n",
       "      <td>1</td>\n",
       "      <td>1</td>\n",
       "      <td>2</td>\n",
       "      <td>2</td>\n",
       "      <td>0</td>\n",
       "      <td>7</td>\n",
       "      <td>...</td>\n",
       "      <td>1</td>\n",
       "      <td>0</td>\n",
       "      <td>1245</td>\n",
       "      <td>1252</td>\n",
       "      <td>179</td>\n",
       "      <td>7.631762</td>\n",
       "      <td>0.000000</td>\n",
       "      <td>1.271960</td>\n",
       "      <td>3.901648</td>\n",
       "      <td>1</td>\n",
       "    </tr>\n",
       "  </tbody>\n",
       "</table>\n",
       "<p>5 rows × 28 columns</p>\n",
       "</div>"
      ],
      "text/plain": [
       "      id  tour_id  hhno  pno  day  tour  half  tseg  tsvid  opurp  ...  \\\n",
       "0  11101      111    11    1    1     1     1     1      0      0  ...   \n",
       "1  11151      111    11    1    1     1     2     1      0      1  ...   \n",
       "2   7101       71     7    1    1     1     1     1      0      0  ...   \n",
       "3   7151       71     7    1    1     1     2     1      0      1  ...   \n",
       "4   7152       71     7    1    1     1     2     2      0      7  ...   \n",
       "\n",
       "   pathtype  dorp  deptm  arrtm  endacttm   travtime  travcost  travdist  \\\n",
       "0         1     1    484    486       975   2.327280  0.075163  0.779177   \n",
       "1         1     1    975    976       179   1.641068  0.075163  0.549432   \n",
       "2         1     0   1085   1091      1212   6.629101  0.000000  1.104850   \n",
       "3         1     0   1212   1223      1245  11.641743  0.000000  1.940291   \n",
       "4         1     0   1245   1252       179   7.631762  0.000000  1.271960   \n",
       "\n",
       "        vot  trexpfac  \n",
       "0  7.463170         1  \n",
       "1  7.463170         1  \n",
       "2  3.901648         1  \n",
       "3  3.901648         1  \n",
       "4  3.901648         1  \n",
       "\n",
       "[5 rows x 28 columns]"
      ]
     },
     "execution_count": 7,
     "metadata": {},
     "output_type": "execute_result"
    }
   ],
   "source": [
    "%%time\n",
    "df_dask.head()"
   ]
  },
  {
   "cell_type": "code",
   "execution_count": 10,
   "metadata": {},
   "outputs": [
    {
     "name": "stdout",
     "output_type": "stream",
     "text": [
      "Wall time: 14.3 s\n"
     ]
    }
   ],
   "source": [
    "%%time\n",
    "\n",
    "# select all transit trips and use compute() to return the result as a normal pandas-style dataframe\n",
    "df_transit = df_dask.loc[df_dask['mode'] == 6].compute()"
   ]
  },
  {
   "cell_type": "code",
   "execution_count": 13,
   "metadata": {},
   "outputs": [
    {
     "name": "stdout",
     "output_type": "stream",
     "text": [
      "Wall time: 15.5 s\n"
     ]
    },
    {
     "data": {
      "text/plain": [
       "mode\n",
       "1      653121\n",
       "2      423840\n",
       "3    10540575\n",
       "4     7460912\n",
       "5     9453150\n",
       "6      614982\n",
       "8      810864\n",
       "Name: mode, dtype: int64"
      ]
     },
     "execution_count": 13,
     "metadata": {},
     "output_type": "execute_result"
    }
   ],
   "source": [
    "%%time\n",
    "# do the pandas groupby operation on the dask dataframe\n",
    "df_tripxmode = df_dask.groupby('mode')['mode'].sum()\n",
    "\n",
    "# render the resulting groupby dataframe as a visible pandas dataframe\n",
    "df_tripxmode.compute()\n"
   ]
  }
 ],
 "metadata": {
  "kernelspec": {
   "display_name": "Python 3",
   "language": "python",
   "name": "python3"
  },
  "language_info": {
   "codemirror_mode": {
    "name": "ipython",
    "version": 3
   },
   "file_extension": ".py",
   "mimetype": "text/x-python",
   "name": "python",
   "nbconvert_exporter": "python",
   "pygments_lexer": "ipython3",
   "version": "3.7.9"
  }
 },
 "nbformat": 4,
 "nbformat_minor": 4
}

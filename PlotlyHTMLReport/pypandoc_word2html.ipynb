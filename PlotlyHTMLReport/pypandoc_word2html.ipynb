{
 "cells": [
  {
   "cell_type": "code",
   "execution_count": 5,
   "metadata": {},
   "outputs": [],
   "source": [
    "# https://github.com/bebraw/pypandoc\n",
    "# convert a word doc to a valid HTML file that can then be loaded as a string and have images inserted into it\n",
    "# then the HTML string can be exported as a PDF\n",
    "\n",
    "import pypandoc\n",
    "\n",
    "in_docx = r'/Users/darrenconly/PythonProjects/CodeSnippets/PlotlyHTMLReport/TestDocFile2HTML.docx'\n",
    "html_str = pypandoc.convert_file(in_docx, 'html')"
   ]
  },
  {
   "cell_type": "code",
   "execution_count": 11,
   "metadata": {},
   "outputs": [
    {
     "data": {
      "text/plain": [
       "0"
      ]
     },
     "execution_count": 11,
     "metadata": {},
     "output_type": "execute_result"
    }
   ],
   "source": [
    "# convert HTML string to PDF\n",
    "#https://xhtml2pdf.readthedocs.io/en/latest/\n",
    "from xhtml2pdf import pisa\n",
    "\n",
    "# Utility function\n",
    "def convert_html_to_pdf(source_html, output_filename):\n",
    "    # open output file for writing (truncated binary)\n",
    "    result_file = open(output_filename, \"w+b\")\n",
    "\n",
    "    # convert HTML to PDF\n",
    "    pisa_status = pisa.CreatePDF(\n",
    "            source_html,                # the HTML to convert\n",
    "            dest=result_file)           # file handle to recieve result\n",
    "\n",
    "    # close output file\n",
    "    result_file.close()                 # close output file\n",
    "\n",
    "    # return False on success and True on errors\n",
    "    return pisa_status.err\n",
    "\n",
    "\n",
    "output_pdf = r'/Users/darrenconly/PythonProjects/CodeSnippets/PlotlyHTMLReport/TestHTML2PDF.pdf'\n",
    "convert_html_to_pdf(html_str, output_pdf)"
   ]
  },
  {
   "cell_type": "code",
   "execution_count": null,
   "metadata": {},
   "outputs": [],
   "source": [
    "# add formatter to HTML string to insert image into it"
   ]
  }
 ],
 "metadata": {
  "kernelspec": {
   "display_name": "Python 3",
   "language": "python",
   "name": "python3"
  },
  "language_info": {
   "codemirror_mode": {
    "name": "ipython",
    "version": 3
   },
   "file_extension": ".py",
   "mimetype": "text/x-python",
   "name": "python",
   "nbconvert_exporter": "python",
   "pygments_lexer": "ipython3",
   "version": "3.7.6"
  }
 },
 "nbformat": 4,
 "nbformat_minor": 4
}

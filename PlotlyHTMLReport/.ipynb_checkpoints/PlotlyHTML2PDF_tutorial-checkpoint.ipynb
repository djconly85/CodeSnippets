{
 "cells": [
  {
   "cell_type": "code",
   "execution_count": 1,
   "metadata": {},
   "outputs": [],
   "source": [
    "\"\"\"\n",
    "Purpose: make PDF reports that have text and insert plotly-generated charts and maps into them.\n",
    "\n",
    "Tutorial link: https://plotly.com/python/v3/pdf-reports/\n",
    "\n",
    "\"\"\"\n",
    "\n",
    "#pre-made graphs saved as HTML pages\n",
    "graphs = [\n",
    "    'https://plotly.com/~christopherp/308',\n",
    "    'https://plotly.com/~christopherp/306',\n",
    "    'https://plotly.com/~christopherp/300',\n",
    "    'https://plotly.com/~christopherp/296'\n",
    "]\n",
    "\n",
    "from IPython.display import display, HTML\n",
    "\n",
    "def report_block_template(report_type, graph_url, caption=''):\n",
    "    if report_type == 'interactive':\n",
    "        graph_block = '<iframe style=\"border: none;\" src=\"{graph_url}.embed\" width=\"100%\" height=\"600px\"></iframe>'\n",
    "    elif report_type == 'static':\n",
    "        graph_block = (''\n",
    "            '<a href=\"{graph_url}\" target=\"_blank\">' # Open the interactive graph when you click on the image\n",
    "                '<img style=\"height: 400px;\" src=\"{graph_url}.png\">'\n",
    "            '</a>')\n",
    "\n",
    "    report_block = ('' +\n",
    "        graph_block +\n",
    "        '{caption}' + # Optional caption to include below the graph\n",
    "        '<br>'      + # Line break\n",
    "        '<a href=\"{graph_url}\" style=\"color: rgb(190,190,190); text-decoration: none; font-weight: 200;\" target=\"_blank\">'+\n",
    "            'Click to comment and see the interactive graph' + # Direct readers to Plotly for commenting, interactive graph\n",
    "        '</a>' +\n",
    "        '<br>' +\n",
    "        '<hr>') # horizontal line                       \n",
    "\n",
    "    return report_block.format(graph_url=graph_url, caption=caption)\n",
    "\n",
    "\n",
    "interactive_report = ''\n",
    "static_report = ''\n",
    "\n",
    "for graph_url in graphs:\n",
    "    _static_block = report_block_template('static', graph_url, caption='')\n",
    "    _interactive_block = report_block_template('interactive', graph_url, caption='')\n",
    "\n",
    "    static_report += _static_block\n",
    "    interactive_report += _interactive_block"
   ]
  },
  {
   "cell_type": "code",
   "execution_count": 2,
   "metadata": {},
   "outputs": [
    {
     "data": {
      "text/html": [
       "<iframe style=\"border: none;\" src=\"https://plotly.com/~christopherp/308.embed\" width=\"100%\" height=\"600px\"></iframe><br><a href=\"https://plotly.com/~christopherp/308\" style=\"color: rgb(190,190,190); text-decoration: none; font-weight: 200;\" target=\"_blank\">Click to comment and see the interactive graph</a><br><hr><iframe style=\"border: none;\" src=\"https://plotly.com/~christopherp/306.embed\" width=\"100%\" height=\"600px\"></iframe><br><a href=\"https://plotly.com/~christopherp/306\" style=\"color: rgb(190,190,190); text-decoration: none; font-weight: 200;\" target=\"_blank\">Click to comment and see the interactive graph</a><br><hr><iframe style=\"border: none;\" src=\"https://plotly.com/~christopherp/300.embed\" width=\"100%\" height=\"600px\"></iframe><br><a href=\"https://plotly.com/~christopherp/300\" style=\"color: rgb(190,190,190); text-decoration: none; font-weight: 200;\" target=\"_blank\">Click to comment and see the interactive graph</a><br><hr><iframe style=\"border: none;\" src=\"https://plotly.com/~christopherp/296.embed\" width=\"100%\" height=\"600px\"></iframe><br><a href=\"https://plotly.com/~christopherp/296\" style=\"color: rgb(190,190,190); text-decoration: none; font-weight: 200;\" target=\"_blank\">Click to comment and see the interactive graph</a><br><hr>"
      ],
      "text/plain": [
       "<IPython.core.display.HTML object>"
      ]
     },
     "metadata": {},
     "output_type": "display_data"
    }
   ],
   "source": [
    "# This version contains the interactive version of the Plotly graphs, served from Plotly's server\n",
    "display(HTML(interactive_report))"
   ]
  },
  {
   "cell_type": "code",
   "execution_count": 3,
   "metadata": {},
   "outputs": [
    {
     "data": {
      "text/html": [
       "<a href=\"https://plotly.com/~christopherp/308\" target=\"_blank\"><img style=\"height: 400px;\" src=\"https://plotly.com/~christopherp/308.png\"></a><br><a href=\"https://plotly.com/~christopherp/308\" style=\"color: rgb(190,190,190); text-decoration: none; font-weight: 200;\" target=\"_blank\">Click to comment and see the interactive graph</a><br><hr><a href=\"https://plotly.com/~christopherp/306\" target=\"_blank\"><img style=\"height: 400px;\" src=\"https://plotly.com/~christopherp/306.png\"></a><br><a href=\"https://plotly.com/~christopherp/306\" style=\"color: rgb(190,190,190); text-decoration: none; font-weight: 200;\" target=\"_blank\">Click to comment and see the interactive graph</a><br><hr><a href=\"https://plotly.com/~christopherp/300\" target=\"_blank\"><img style=\"height: 400px;\" src=\"https://plotly.com/~christopherp/300.png\"></a><br><a href=\"https://plotly.com/~christopherp/300\" style=\"color: rgb(190,190,190); text-decoration: none; font-weight: 200;\" target=\"_blank\">Click to comment and see the interactive graph</a><br><hr><a href=\"https://plotly.com/~christopherp/296\" target=\"_blank\"><img style=\"height: 400px;\" src=\"https://plotly.com/~christopherp/296.png\"></a><br><a href=\"https://plotly.com/~christopherp/296\" style=\"color: rgb(190,190,190); text-decoration: none; font-weight: 200;\" target=\"_blank\">Click to comment and see the interactive graph</a><br><hr>"
      ],
      "text/plain": [
       "<IPython.core.display.HTML object>"
      ]
     },
     "metadata": {},
     "output_type": "display_data"
    }
   ],
   "source": [
    "# This version contains the static version of the Plotly graphs, also served from Plotly's server\n",
    "display(HTML(static_report))"
   ]
  },
  {
   "cell_type": "code",
   "execution_count": 5,
   "metadata": {},
   "outputs": [],
   "source": [
    "from xhtml2pdf import pisa # import python html-to-pdf conversion module\n",
    "\n",
    "# Utility function\n",
    "def convert_html_to_pdf(source_html, output_filename):\n",
    "    # open output file for writing (truncated binary)\n",
    "    result_file = open(output_filename, \"w+b\")\n",
    "\n",
    "    # convert HTML to PDF\n",
    "    pisa_status = pisa.CreatePDF(\n",
    "            source_html,                # the HTML to convert\n",
    "            dest=result_file)           # file handle to recieve result\n",
    "\n",
    "    # close output file\n",
    "    result_file.close()                 # close output file\n",
    "\n",
    "    # return True on success and False on errors\n",
    "    return pisa_status.err"
   ]
  },
  {
   "cell_type": "code",
   "execution_count": 6,
   "metadata": {},
   "outputs": [
    {
     "data": {
      "text/plain": [
       "0"
      ]
     },
     "execution_count": 6,
     "metadata": {},
     "output_type": "execute_result"
    }
   ],
   "source": [
    "# run the utility function to convert static version of HTML report to PDF\n",
    "convert_html_to_pdf(static_report, r'/Users/darrenconly/PythonProjects/CodeSnippets/report.pdf')"
   ]
  },
  {
   "cell_type": "code",
   "execution_count": null,
   "metadata": {},
   "outputs": [],
   "source": [
    "\"\"\"\n",
    "\n",
    "The static report in the example above uses graphs that were already created in Plotly. \n",
    "Sometimes it's helpful to use graph images that are created on-the-fly. For example, \n",
    "if you're using plotly.js to create the web-reports you might not be saving the graphs to accounts on plot.ly.\n",
    "\n",
    "To create static images of graphs on-the-fly, use the plotly.plotly.image class. \n",
    "This class generates images by making a request to the Plotly image server.\n",
    "\n",
    "Here's an alternative template that uses py.image.get to generate \n",
    "the images and template them into an HTML and PDF report.\n",
    "\n",
    "\"\"\"\n",
    "\n",
    "import plotly.plotly as py\n",
    "import base64\n",
    "\n",
    "width = 600\n",
    "height = 600\n",
    "\n",
    "template = (''\n",
    "    '<img style=\"width: {width}; height: {height}\" src=\"data:image/png;base64,{image}\">'\n",
    "    '{caption}'                              # Optional caption to include below the graph\n",
    "    '<br>'\n",
    "    '<hr>'\n",
    "'')\n",
    "\n",
    "# A collection of Plotly graphs\n",
    "figures = [\n",
    "    {'data': [{'x': [1,2,3], 'y': [3,1,6]}], 'layout': {'title': 'the first graph'}},\n",
    "    {'data': [{'x': [1,2,3], 'y': [3,7,6], 'type': 'bar'}], 'layout': {'title': 'the second graph'}}\n",
    "]\n",
    "\n",
    "# Generate their images using `py.image.get`\n",
    "images = [base64.b64encode(py.image.get(figure, width=width, height=height)).decode('utf-8') for figure in figures]\n",
    "\n",
    "report_html = ''\n",
    "for image in images:\n",
    "    _ = template\n",
    "    _ = _.format(image=image, caption='', width=width, height=height)\n",
    "    report_html += _\n",
    "\n",
    "display(HTML(report_html))\n",
    "convert_html_to_pdf(report_html, 'report-2.pdf')"
   ]
  }
 ],
 "metadata": {
  "kernelspec": {
   "display_name": "Python 3",
   "language": "python",
   "name": "python3"
  },
  "language_info": {
   "codemirror_mode": {
    "name": "ipython",
    "version": 3
   },
   "file_extension": ".py",
   "mimetype": "text/x-python",
   "name": "python",
   "nbconvert_exporter": "python",
   "pygments_lexer": "ipython3",
   "version": "3.7.6"
  }
 },
 "nbformat": 4,
 "nbformat_minor": 4
}

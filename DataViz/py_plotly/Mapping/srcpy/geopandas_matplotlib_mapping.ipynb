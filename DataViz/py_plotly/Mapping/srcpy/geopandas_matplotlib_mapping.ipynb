{
 "cells": [
  {
   "cell_type": "code",
   "execution_count": 3,
   "metadata": {},
   "outputs": [
    {
     "data": {
      "text/plain": [
       "<matplotlib.axes._subplots.AxesSubplot at 0x7f7fa85bf050>"
      ]
     },
     "execution_count": 3,
     "metadata": {},
     "output_type": "execute_result"
    },
    {
     "data": {
      "image/png": "[encoded data removed]",
      "text/plain": [
       "<Figure size 432x288 with 1 Axes>"
      ]
     },
     "metadata": {
      "needs_background": "light"
     },
     "output_type": "display_data"
    }
   ],
   "source": [
    "import pandas as pd\n",
    "import geopandas as gpd\n",
    "import matplotlib as mpl\n",
    "\n",
    "\n",
    "# load a shapefile to a geopandas geodataframe\n",
    "in_shp = r'/Users/darrenconly/PythonProjects/Mapping/SHP/Cities_and_Counties-shp/c52c1b1c-626d-4141-bdda-18f20d581cd2202041-1-18nan1v.qxc6.shp'\n",
    "\n",
    "gdf = gpd.read_file(in_shp)\n",
    "\n",
    "gdf.plot()"
   ]
  },
  {
   "cell_type": "code",
   "execution_count": 4,
   "metadata": {},
   "outputs": [
    {
     "data": {
      "text/html": [
       "<div>\n",
       "<style scoped>\n",
       "    .dataframe tbody tr th:only-of-type {\n",
       "        vertical-align: middle;\n",
       "    }\n",
       "\n",
       "    .dataframe tbody tr th {\n",
       "        vertical-align: top;\n",
       "    }\n",
       "\n",
       "    .dataframe thead th {\n",
       "        text-align: right;\n",
       "    }\n",
       "</style>\n",
       "<table border=\"1\" class=\"dataframe\">\n",
       "  <thead>\n",
       "    <tr style=\"text-align: right;\">\n",
       "      <th></th>\n",
       "      <th>FID</th>\n",
       "      <th>OBJECTID</th>\n",
       "      <th>JURIS</th>\n",
       "      <th>COUNTY</th>\n",
       "      <th>DISTRICT</th>\n",
       "      <th>CITY_NAME</th>\n",
       "      <th>ACRES</th>\n",
       "      <th>SQ_MILES</th>\n",
       "      <th>Shape_STAr</th>\n",
       "      <th>Shape_STLe</th>\n",
       "      <th>Shape__Are</th>\n",
       "      <th>Shape__Len</th>\n",
       "      <th>geometry</th>\n",
       "    </tr>\n",
       "  </thead>\n",
       "  <tbody>\n",
       "    <tr>\n",
       "      <th>0</th>\n",
       "      <td>1</td>\n",
       "      <td>154</td>\n",
       "      <td>Yuba County</td>\n",
       "      <td>Yuba</td>\n",
       "      <td>YUBA COUNTY</td>\n",
       "      <td>None</td>\n",
       "      <td>404451.0</td>\n",
       "      <td>631.954</td>\n",
       "      <td>1.761780e+10</td>\n",
       "      <td>1.056074e+06</td>\n",
       "      <td>2.735266e+09</td>\n",
       "      <td>416199.799136</td>\n",
       "      <td>MULTIPOLYGON (((-13500775.914 4726741.441, -13...</td>\n",
       "    </tr>\n",
       "    <tr>\n",
       "      <th>1</th>\n",
       "      <td>2</td>\n",
       "      <td>155</td>\n",
       "      <td>Sutter County</td>\n",
       "      <td>Sutter</td>\n",
       "      <td>SUTTER COUNTY</td>\n",
       "      <td>None</td>\n",
       "      <td>377584.0</td>\n",
       "      <td>589.975</td>\n",
       "      <td>1.644748e+10</td>\n",
       "      <td>1.117853e+06</td>\n",
       "      <td>2.536235e+09</td>\n",
       "      <td>439142.479023</td>\n",
       "      <td>MULTIPOLYGON (((-13539174.255 4764157.645, -13...</td>\n",
       "    </tr>\n",
       "    <tr>\n",
       "      <th>2</th>\n",
       "      <td>3</td>\n",
       "      <td>156</td>\n",
       "      <td>El Dorado County</td>\n",
       "      <td>El Dorado</td>\n",
       "      <td>EL DORADO COUNTY</td>\n",
       "      <td>None</td>\n",
       "      <td>1129840.0</td>\n",
       "      <td>1765.379</td>\n",
       "      <td>4.921575e+10</td>\n",
       "      <td>1.445752e+06</td>\n",
       "      <td>7.535228e+09</td>\n",
       "      <td>565763.093767</td>\n",
       "      <td>POLYGON ((-13358614.524 4731343.344, -13358525...</td>\n",
       "    </tr>\n",
       "    <tr>\n",
       "      <th>3</th>\n",
       "      <td>4</td>\n",
       "      <td>157</td>\n",
       "      <td>Yolo County</td>\n",
       "      <td>Yolo</td>\n",
       "      <td>YOLO COUNTY</td>\n",
       "      <td>None</td>\n",
       "      <td>622652.0</td>\n",
       "      <td>972.894</td>\n",
       "      <td>2.712261e+10</td>\n",
       "      <td>1.406688e+06</td>\n",
       "      <td>4.142798e+09</td>\n",
       "      <td>549460.949250</td>\n",
       "      <td>MULTIPOLYGON (((-13562586.604 4710907.358, -13...</td>\n",
       "    </tr>\n",
       "    <tr>\n",
       "      <th>4</th>\n",
       "      <td>5</td>\n",
       "      <td>158</td>\n",
       "      <td>Sacramento County</td>\n",
       "      <td>Sacramento</td>\n",
       "      <td>SACRAMENTO COUNTY</td>\n",
       "      <td>None</td>\n",
       "      <td>491606.0</td>\n",
       "      <td>768.134</td>\n",
       "      <td>2.141427e+10</td>\n",
       "      <td>2.019645e+06</td>\n",
       "      <td>3.241920e+09</td>\n",
       "      <td>783333.323612</td>\n",
       "      <td>MULTIPOLYGON (((-13504082.707 4682047.291, -13...</td>\n",
       "    </tr>\n",
       "  </tbody>\n",
       "</table>\n",
       "</div>"
      ],
      "text/plain": [
       "   FID  OBJECTID              JURIS      COUNTY           DISTRICT CITY_NAME  \\\n",
       "0    1       154        Yuba County        Yuba        YUBA COUNTY      None   \n",
       "1    2       155      Sutter County      Sutter      SUTTER COUNTY      None   \n",
       "2    3       156   El Dorado County   El Dorado   EL DORADO COUNTY      None   \n",
       "3    4       157        Yolo County        Yolo        YOLO COUNTY      None   \n",
       "4    5       158  Sacramento County  Sacramento  SACRAMENTO COUNTY      None   \n",
       "\n",
       "       ACRES  SQ_MILES    Shape_STAr    Shape_STLe    Shape__Are  \\\n",
       "0   404451.0   631.954  1.761780e+10  1.056074e+06  2.735266e+09   \n",
       "1   377584.0   589.975  1.644748e+10  1.117853e+06  2.536235e+09   \n",
       "2  1129840.0  1765.379  4.921575e+10  1.445752e+06  7.535228e+09   \n",
       "3   622652.0   972.894  2.712261e+10  1.406688e+06  4.142798e+09   \n",
       "4   491606.0   768.134  2.141427e+10  2.019645e+06  3.241920e+09   \n",
       "\n",
       "      Shape__Len                                           geometry  \n",
       "0  416199.799136  MULTIPOLYGON (((-13500775.914 4726741.441, -13...  \n",
       "1  439142.479023  MULTIPOLYGON (((-13539174.255 4764157.645, -13...  \n",
       "2  565763.093767  POLYGON ((-13358614.524 4731343.344, -13358525...  \n",
       "3  549460.949250  MULTIPOLYGON (((-13562586.604 4710907.358, -13...  \n",
       "4  783333.323612  MULTIPOLYGON (((-13504082.707 4682047.291, -13...  "
      ]
     },
     "execution_count": 4,
     "metadata": {},
     "output_type": "execute_result"
    }
   ],
   "source": [
    "gdf.head()"
   ]
  }
 ],
 "metadata": {
  "kernelspec": {
   "display_name": "Python 3",
   "language": "python",
   "name": "python3"
  },
  "language_info": {
   "codemirror_mode": {
    "name": "ipython",
    "version": 3
   },
   "file_extension": ".py",
   "mimetype": "text/x-python",
   "name": "python",
   "nbconvert_exporter": "python",
   "pygments_lexer": "ipython3",
   "version": "3.7.6"
  }
 },
 "nbformat": 4,
 "nbformat_minor": 4
}

{
 "cells": [
  {
   "cell_type": "code",
   "execution_count": 2,
   "metadata": {},
   "outputs": [],
   "source": [
    "\"\"\"\n",
    "This is a temporary script file.\n",
    "Resources:\n",
    "    https://www.tutorialspoint.com/matplotlib/matplotlib_axes_class.htm\n",
    "\n",
    "\"\"\"\n",
    "\n",
    "import pandas as pd\n",
    "import matplotlib\n",
    "\n",
    "\n",
    "'''DESIRED CHART:\n",
    "    -grouped bar chart\n",
    "    -each group represents a time period (weekdays, weekends, etc)\n",
    "    -each bar series represents a year\n",
    "    -title is the project description + direction\n",
    "    -will have separate, side-by-side charts, 1 chart for each direction\n",
    "    -bars will have data labels showing their values\n",
    "    \n",
    "'''\n",
    "\n",
    "# =============PREPARATION STEPS\n",
    "\n",
    "# import sample data\n",
    "in_csv = r'/Users/darrenconly/PythonProjects/CodeSnippets/DataViz/py_matplotlib/sample_data_csvs/speed_data_x_project.csv'\n",
    "df = pd.read_csv(in_csv)\n",
    "\n",
    "\n",
    "# column names: 'measure_full', 'value', 'proj_desc', 'proj_inum', 'data_year', 'direction', 'measure'\n",
    "\n",
    "# filter to only one test project\n",
    "\n",
    "proj = df['proj_desc'][0]\n",
    "direcn = df['direction'][0]\n",
    "\n",
    "dfp = df.loc[(df['proj_desc'] == proj) & (df['direction'] == direcn) \\\n",
    "             & df['measure'].str.contains('lottr')]\n",
    "    \n",
    "\n",
    "\n",
    "chart_title = f'{proj} - {direcn}'"
   ]
  },
  {
   "cell_type": "code",
   "execution_count": null,
   "metadata": {},
   "outputs": [],
   "source": [
    "# ===========METHOD 1: BUILD THE CHART USING PANDAS PLOTTING==========\n",
    "'''Advantages to using Pandas plotting:\n",
    "    -simple, fewer lines of code\n",
    "Disadvangates:\n",
    "'''\n",
    "#set up the initial matplotlib axes object \n",
    "ax = dfp.plot(title=chart_title)\n",
    "\n",
    "# each year of data will be a series of bars\n",
    "for i in [2016, 2019]:\n",
    "    dfi = dfp.loc[dfp['data_year'] == i]\n",
    "    ax.bar(x='measure', height='value')"
   ]
  },
  {
   "cell_type": "code",
   "execution_count": 15,
   "metadata": {},
   "outputs": [
    {
     "name": "stdout",
     "output_type": "stream",
     "text": [
      "   Unnamed: 0         measure_full     value                      proj_desc  \\\n",
      "3           3  EASTBOUNDlottr_ampk  1.294696  Richards Blvd- I-5 to 16th St   \n",
      "4           4    EASTBOUNDlottr_md  1.294705  Richards Blvd- I-5 to 16th St   \n",
      "5           5  EASTBOUNDlottr_pmpk  1.396554  Richards Blvd- I-5 to 16th St   \n",
      "6           6  EASTBOUNDlottr_wknd  1.349272  Richards Blvd- I-5 to 16th St   \n",
      "\n",
      "   proj_inum  data_year  direction     measure  \n",
      "3          1       2016  EASTBOUND  lottr_ampk  \n",
      "4          1       2016  EASTBOUND    lottr_md  \n",
      "5          1       2016  EASTBOUND  lottr_pmpk  \n",
      "6          1       2016  EASTBOUND  lottr_wknd  \n",
      "     Unnamed: 0         measure_full     value                      proj_desc  \\\n",
      "255           3  EASTBOUNDlottr_ampk  1.345554  Richards Blvd- I-5 to 16th St   \n",
      "256           4    EASTBOUNDlottr_md  1.343295  Richards Blvd- I-5 to 16th St   \n",
      "257           5  EASTBOUNDlottr_pmpk  1.579484  Richards Blvd- I-5 to 16th St   \n",
      "258           6  EASTBOUNDlottr_wknd  1.388547  Richards Blvd- I-5 to 16th St   \n",
      "\n",
      "     proj_inum  data_year  direction     measure  \n",
      "255          1       2019  EASTBOUND  lottr_ampk  \n",
      "256          1       2019  EASTBOUND    lottr_md  \n",
      "257          1       2019  EASTBOUND  lottr_pmpk  \n",
      "258          1       2019  EASTBOUND  lottr_wknd  \n"
     ]
    }
   ],
   "source": [
    "dfi = dfp.loc[dfp['data_year'] == 2016]\n",
    "dfj = dfp.loc[dfp['data_year'] == 2019]\n",
    "\n",
    "print(dfi)\n",
    "print(dfj)"
   ]
  },
  {
   "cell_type": "code",
   "execution_count": 10,
   "metadata": {},
   "outputs": [
    {
     "data": {
      "image/png": "[encoded data removed]",
      "text/plain": [
       "<Figure size 432x288 with 1 Axes>"
      ]
     },
     "metadata": {
      "needs_background": "light"
     },
     "output_type": "display_data"
    }
   ],
   "source": [
    "# ===========METHOD 2: BUILD THE CHART USING ONLY MATPLOTLIB INLINE plot() ==========\n",
    "# pyplot is the inline way of plotting; ax is the object-oriented way of plotting\n",
    "# plt can be shown inline with plt.show() command\n",
    "# https://matplotlib.org/3.1.0/gallery/lines_bars_and_markers/barchart.html\n",
    "\n",
    "import matplotlib.pyplot as plt\n",
    "\n",
    "\n",
    "# The Figure is like a canvas, and the Axes is a part of that canvas on \n",
    "# which we will make a particular visualization.\n",
    "fig, ax = plt.subplots()\n",
    "\n",
    "# for i in [2016, 2019]:\n",
    "#     dfi = dfp.loc[dfp['data_year'] == i]\n",
    "#     ax.bar(dfi['measure'], dfi['value'])\n",
    "\n",
    "dfi = dfp.loc[dfp['data_year'] == 2016]\n",
    "dfj = dfp.loc[dfp['data_year'] == 2019]\n",
    "\n",
    "s1 = ax.bar(dfi['measure'], dfi['value'])\n",
    "s2 = ax.bar(dfj['measure'], dfj['value'])\n",
    "\n",
    "plt.show()"
   ]
  },
  {
   "cell_type": "code",
   "execution_count": 25,
   "metadata": {},
   "outputs": [
    {
     "data": {
      "image/png": "[encoded data removed]",
      "text/plain": [
       "<Figure size 432x288 with 1 Axes>"
      ]
     },
     "metadata": {
      "needs_background": "light"
     },
     "output_type": "display_data"
    }
   ],
   "source": [
    "# ===========METHOD 2: BUILD THE CHART USING ONLY MATPLOTLIB INLINE plot() ==========\n",
    "# pyplot is the inline way of plotting; ax is the object-oriented way of plotting\n",
    "# plt can be shown inline with plt.show() command\n",
    "# https://matplotlib.org/3.1.0/gallery/lines_bars_and_markers/barchart.html\n",
    "\n",
    "import matplotlib.pyplot as plt\n",
    "\n",
    "\n",
    "# The Figure is like a canvas, and the Axes is a part of that canvas on \n",
    "# which we will make a particular visualization.\n",
    "fig, ax = plt.subplots()\n",
    "\n",
    "# for i in [2016, 2019]:\n",
    "#     dfi = dfp.loc[dfp['data_year'] == i]\n",
    "#     ax.bar(dfi['measure'], dfi['value'])\n",
    "\n",
    "dfi = dfp.loc[dfp['data_year'] == 2016]\n",
    "dfj = dfp.loc[dfp['data_year'] == 2019]\n",
    "\n",
    "x_locns = [i for i, v in enumerate(dfi['measure'])]\n",
    "\n",
    "bar_width = 0.35\n",
    "\n",
    "plt.bar(x_locns, dfi['value'], bar_width)\n",
    "plt.bar([i + bar_width for i in x_locns], dfj['value'], bar_width)\n",
    "\n",
    "ax.set_xticks(x_locns)\n",
    "\n",
    "plt.show()"
   ]
  },
  {
   "cell_type": "code",
   "execution_count": 55,
   "metadata": {},
   "outputs": [
    {
     "data": {
      "image/png": "[encoded data removed]",
      "text/plain": [
       "<Figure size 432x288 with 1 Axes>"
      ]
     },
     "metadata": {
      "needs_background": "light"
     },
     "output_type": "display_data"
    }
   ],
   "source": [
    "# ===========METHOD 2: BUILD THE CHART USING ONLY MATPLOTLIB INLINE plot() ==========\n",
    "# pyplot is the inline way of plotting; ax is the object-oriented way of plotting\n",
    "# plt can be shown inline with plt.show() command\n",
    "# https://matplotlib.org/3.1.0/gallery/lines_bars_and_markers/barchart.html\n",
    "\n",
    "import matplotlib.pyplot as plt\n",
    "\n",
    "\n",
    "# The Figure is like a canvas, and the Axes is a part of that canvas on \n",
    "# which we will make a particular visualization.\n",
    "fig, ax = plt.subplots()\n",
    "\n",
    "# set the width of each bar\n",
    "bar_width = 0.35\n",
    "\n",
    "# the values that will be shown for each tick mark on the x axis\n",
    "x_label_vals = dfp['measure'].unique()\n",
    "x_labels = ax.set_xticklabels(x_label_vals)\n",
    "\n",
    "# the distance along the x axis at which the x-axis label will be placed\n",
    "x_label_posns = [i + (bar_width/2) for i, v in enumerate(x_label_vals)]\n",
    "ax.set_xticks(x_label_posns)\n",
    "\n",
    "# these values will be a different color on the bar chart\n",
    "data_series = dfp['data_year'].unique()\n",
    "\n",
    "for x_posn, year in enumerate(data_series):\n",
    "    \n",
    "    # make sure each color in the series is visible and right next\n",
    "    # to the previous color, immediatly to the right\n",
    "    adder = x_posn * bar_width\n",
    "    x_locns = [i + adder for i, v in enumerate(dfi['measure'])]\n",
    "    \n",
    "    # add the values for that series to the bar chart\n",
    "    dfi = dfp.loc[dfp['data_year'] == year]\n",
    "    ax.bar(x_locns, dfi['value'], bar_width)\n",
    "\n",
    "\n",
    "\n",
    "plt.show()"
   ]
  }
 ],
 "metadata": {
  "kernelspec": {
   "display_name": "Python 3",
   "language": "python",
   "name": "python3"
  },
  "language_info": {
   "codemirror_mode": {
    "name": "ipython",
    "version": 3
   },
   "file_extension": ".py",
   "mimetype": "text/x-python",
   "name": "python",
   "nbconvert_exporter": "python",
   "pygments_lexer": "ipython3",
   "version": "3.7.6"
  }
 },
 "nbformat": 4,
 "nbformat_minor": 4
}

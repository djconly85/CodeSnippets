{
 "cells": [
  {
   "cell_type": "code",
   "execution_count": 4,
   "metadata": {},
   "outputs": [],
   "source": [
    "\"\"\"\n",
    "This is a temporary script file.\n",
    "Resources:\n",
    "    https://www.tutorialspoint.com/matplotlib/matplotlib_axes_class.htm\n",
    "\n",
    "\"\"\"\n",
    "\n",
    "import pandas as pd\n",
    "import matplotlib\n",
    "\n",
    "\n",
    "'''DESIRED CHART:\n",
    "    -grouped bar chart\n",
    "    -each group represents a time period (weekdays, weekends, etc)\n",
    "    -each bar series represents a year\n",
    "    -title is the project description + direction\n",
    "    -will have separate, side-by-side charts, 1 chart for each direction\n",
    "    -bars will have data labels showing their values\n",
    "    \n",
    "'''\n",
    "\n",
    "# =============PREPARATION STEPS\n",
    "\n",
    "# import sample data\n",
    "in_csv = r'/Users/darrenconly/PythonProjects/CodeSnippets/DataViz/py_matplotlib/sample_data_csvs/speed_data_x_project.csv'\n",
    "df = pd.read_csv(in_csv)\n",
    "\n",
    "\n",
    "# column names: 'measure_full', 'value', 'proj_desc', 'proj_inum', 'data_year', 'direction', 'measure'\n",
    "\n",
    "# filter to only one test project\n",
    "\n",
    "proj = df['proj_desc'][0]\n",
    "direcn = df['direction'][0]\n",
    "\n",
    "dfp = df.loc[(df['proj_desc'] == proj) & (df['direction'] == direcn) \\\n",
    "             & df['measure'].str.contains('lottr')]\n",
    "    \n",
    "\n",
    "\n",
    "chart_title = f'{proj} - {direcn}'"
   ]
  },
  {
   "cell_type": "code",
   "execution_count": 4,
   "metadata": {},
   "outputs": [
    {
     "data": {
      "image/png": "[encoded data removed]",
      "text/plain": [
       "<Figure size 432x288 with 1 Axes>"
      ]
     },
     "metadata": {
      "needs_background": "light"
     },
     "output_type": "display_data"
    }
   ],
   "source": [
    "# ===========METHOD 1: BUILD THE CHART USING PANDAS PLOTTING==========\n",
    "'''Advantages to using Pandas plotting:\n",
    "    -simple, fewer lines of code\n",
    "Disadvangates:\n",
    "'''\n",
    "#set up the initial matplotlib axes object \n",
    "ax = dfp.plot(title=chart_title)\n",
    "\n",
    "# each year of data will be a series of bars\n",
    "for i in [2016, 2019]:\n",
    "    dfi = dfp.loc[dfp['data_year'] == i]\n",
    "    ax.bar(x='measure', height='value')"
   ]
  },
  {
   "cell_type": "code",
   "execution_count": 5,
   "metadata": {},
   "outputs": [
    {
     "name": "stdout",
     "output_type": "stream",
     "text": [
      "          measure_full     value                      proj_desc  proj_inum  \\\n",
      "3  EASTBOUNDlottr_ampk  1.294696  Richards Blvd- I-5 to 16th St          1   \n",
      "4    EASTBOUNDlottr_md  1.294705  Richards Blvd- I-5 to 16th St          1   \n",
      "5  EASTBOUNDlottr_pmpk  1.396554  Richards Blvd- I-5 to 16th St          1   \n",
      "6  EASTBOUNDlottr_wknd  1.349272  Richards Blvd- I-5 to 16th St          1   \n",
      "\n",
      "   data_year  direction     measure  \n",
      "3       2016  EASTBOUND  lottr_ampk  \n",
      "4       2016  EASTBOUND    lottr_md  \n",
      "5       2016  EASTBOUND  lottr_pmpk  \n",
      "6       2016  EASTBOUND  lottr_wknd  \n",
      "            measure_full     value                      proj_desc  proj_inum  \\\n",
      "255  EASTBOUNDlottr_ampk  1.345554  Richards Blvd- I-5 to 16th St          1   \n",
      "256    EASTBOUNDlottr_md  1.343295  Richards Blvd- I-5 to 16th St          1   \n",
      "257  EASTBOUNDlottr_pmpk  1.579484  Richards Blvd- I-5 to 16th St          1   \n",
      "258  EASTBOUNDlottr_wknd  1.388547  Richards Blvd- I-5 to 16th St          1   \n",
      "\n",
      "     data_year  direction     measure  \n",
      "255       2019  EASTBOUND  lottr_ampk  \n",
      "256       2019  EASTBOUND    lottr_md  \n",
      "257       2019  EASTBOUND  lottr_pmpk  \n",
      "258       2019  EASTBOUND  lottr_wknd  \n"
     ]
    }
   ],
   "source": [
    "dfi = dfp.loc[dfp['data_year'] == 2016]\n",
    "dfj = dfp.loc[dfp['data_year'] == 2019]\n",
    "\n",
    "print(dfi)\n",
    "print(dfj)"
   ]
  },
  {
   "cell_type": "code",
   "execution_count": 6,
   "metadata": {},
   "outputs": [
    {
     "data": {
      "image/png": "[encoded data removed]",
      "text/plain": [
       "<Figure size 432x288 with 1 Axes>"
      ]
     },
     "metadata": {
      "needs_background": "light"
     },
     "output_type": "display_data"
    }
   ],
   "source": [
    "# ===========METHOD 2: BUILD THE CHART USING ONLY MATPLOTLIB INLINE plot() ==========\n",
    "# pyplot is the inline way of plotting; ax is the object-oriented way of plotting\n",
    "# plt can be shown inline with plt.show() command\n",
    "# https://matplotlib.org/3.1.0/gallery/lines_bars_and_markers/barchart.html\n",
    "\n",
    "import matplotlib.pyplot as plt\n",
    "\n",
    "\n",
    "# The Figure is like a canvas, and the Axes is a part of that canvas on \n",
    "# which we will make a particular visualization.\n",
    "fig, ax = plt.subplots()\n",
    "\n",
    "# for i in [2016, 2019]:\n",
    "#     dfi = dfp.loc[dfp['data_year'] == i]\n",
    "#     ax.bar(dfi['measure'], dfi['value'])\n",
    "\n",
    "dfi = dfp.loc[dfp['data_year'] == 2016]\n",
    "dfj = dfp.loc[dfp['data_year'] == 2019]\n",
    "\n",
    "s1 = ax.bar(dfi['measure'], dfi['value'])\n",
    "s2 = ax.bar(dfj['measure'], dfj['value'])\n",
    "\n",
    "plt.show()"
   ]
  },
  {
   "cell_type": "code",
   "execution_count": 8,
   "metadata": {},
   "outputs": [
    {
     "data": {
      "image/png": "[encoded data removed]",
      "text/plain": [
       "<Figure size 432x288 with 1 Axes>"
      ]
     },
     "metadata": {
      "needs_background": "light"
     },
     "output_type": "display_data"
    }
   ],
   "source": [
    "# ===========METHOD 2: BUILD THE CHART USING ONLY MATPLOTLIB INLINE plot() ==========\n",
    "# pyplot is the inline way of plotting; ax is the object-oriented way of plotting\n",
    "# plt can be shown inline with plt.show() command\n",
    "# https://matplotlib.org/3.1.0/gallery/lines_bars_and_markers/barchart.html\n",
    "\n",
    "import matplotlib.pyplot as plt\n",
    "\n",
    "\n",
    "# The Figure is like a canvas, and the Axes is a part of that canvas on \n",
    "# which we will make a particular visualization.\n",
    "fig, ax = plt.subplots()\n",
    "\n",
    "# for i in [2016, 2019]:\n",
    "#     dfi = dfp.loc[dfp['data_year'] == i]\n",
    "#     ax.bar(dfi['measure'], dfi['value'])\n",
    "\n",
    "dfi = dfp.loc[dfp['data_year'] == 2016]\n",
    "dfj = dfp.loc[dfp['data_year'] == 2019]\n",
    "\n",
    "x_locns = [i for i, v in enumerate(dfi['measure'])]\n",
    "\n",
    "bar_width = 0.35\n",
    "\n",
    "plt.bar(x_locns, dfi['value'], bar_width)\n",
    "plt.bar([i + bar_width for i in x_locns], dfj['value'], bar_width)\n",
    "\n",
    "ax.set_xticks(x_locns)\n",
    "\n",
    "plt.show()"
   ]
  },
  {
   "cell_type": "code",
   "execution_count": 9,
   "metadata": {},
   "outputs": [
    {
     "data": {
      "image/png": "[encoded data removed]",
      "text/plain": [
       "<Figure size 432x288 with 1 Axes>"
      ]
     },
     "metadata": {
      "needs_background": "light"
     },
     "output_type": "display_data"
    }
   ],
   "source": [
    "# ===========METHOD 2A: BUILD THE CHART USING ONLY MATPLOTLIB INLINE plot() ==========\n",
    "# pyplot is the inline way of plotting; ax is the object-oriented way of plotting\n",
    "# plt can be shown inline with plt.show() command\n",
    "# https://matplotlib.org/3.1.0/gallery/lines_bars_and_markers/barchart.html\n",
    "\n",
    "import matplotlib.pyplot as plt\n",
    "\n",
    "\n",
    "# The Figure is like a canvas, and the Axes is a part of that canvas on \n",
    "# which we will make a particular visualization.\n",
    "fig, ax = plt.subplots()\n",
    "\n",
    "# set the width of each bar\n",
    "bar_width = 0.35\n",
    "\n",
    "# the values that will be shown for each tick mark on the x axis\n",
    "x_label_vals = dfp['measure'].unique()\n",
    "x_labels = ax.set_xticklabels(x_label_vals)\n",
    "\n",
    "# the distance along the x axis at which the x-axis label will be placed\n",
    "x_label_posns = [i + (bar_width/2) for i, v in enumerate(x_label_vals)]\n",
    "ax.set_xticks(x_label_posns)\n",
    "\n",
    "# set title, axis titles\n",
    "chart_title = dfp['proj_desc'].iloc[0]\n",
    "axislabel_x = dfp['measure'].name\n",
    "axislabel_y = dfp['value'].name\n",
    "\n",
    "ax.set_title(chart_title)\n",
    "ax.set_xlabel(axislabel_x)\n",
    "ax.set_ylabel(axislabel_y)\n",
    "\n",
    "# these values will be a different color on the bar chart\n",
    "data_series = dfp['data_year'].unique()\n",
    "\n",
    "\n",
    "\n",
    "for x_posn, year in enumerate(data_series):\n",
    "    \n",
    "    # make sure each color in the series is visible and right next\n",
    "    # to the previous color, immediatly to the right\n",
    "    adder = x_posn * bar_width\n",
    "    x_locns = [i + adder for i, v in enumerate(dfi['measure'])]\n",
    "    \n",
    "    # add the values for that series to the bar chart\n",
    "    dfi = dfp.loc[dfp['data_year'] == year]\n",
    "    bar_rectangles = ax.bar(x_locns, dfi['value'], bar_width)\n",
    "    \n",
    "    # add annotations to each bar showing each bar's value for each bar within the data series\n",
    "    for bar_rect in bar_rectangles:\n",
    "        offset_x = 0 # horizontal offset, in chart units\n",
    "        offset_y = .05 # vertical offset, in chart units\n",
    "        \n",
    "        data_val = bar_rect.get_height() \n",
    "        label_x_pos = bar_rect.get_x() + bar_rect.get_width() / 2\n",
    "\n",
    "        # ax.annotate(<val to show>, x/y position of text label)\n",
    "        ax.annotate(s=f\"{data_val}\", xy=(label_x_pos, data_val),\n",
    "                   xytext=(label_x_pos + offset_x, data_val + offset_y),\n",
    "                   horizontalalignment='center', verticalalignment='bottom' ,rotation=90)\n",
    "                    # xycoords=(label_x_pos + offset_x, data_val + offset_y)) \n",
    "            \n",
    "        # all annotate params before xytext arg - https://matplotlib.org/3.3.0/api/_as_gen/matplotlib.axes.Axes.annotate.html\n",
    "        # all annotate params after xytext arg - https://matplotlib.org/3.3.0/api/text_api.html#matplotlib.text.Text\n",
    "    \n",
    "\n",
    "\n",
    "\n",
    "plt.show()"
   ]
  },
  {
   "cell_type": "code",
   "execution_count": 18,
   "metadata": {},
   "outputs": [
    {
     "data": {
      "image/png": "[encoded data removed]",
      "text/plain": [
       "<Figure size 432x288 with 1 Axes>"
      ]
     },
     "metadata": {
      "needs_background": "light"
     },
     "output_type": "display_data"
    }
   ],
   "source": [
    "# ===========METHOD 2B: Method 2 packaged as a function==========\n",
    "# pyplot is the inline way of plotting; ax is the object-oriented way of plotting\n",
    "# plt can be shown inline with plt.show() command\n",
    "# https://matplotlib.org/3.1.0/gallery/lines_bars_and_markers/barchart.html\n",
    "\n",
    "import matplotlib.pyplot as plt\n",
    "\n",
    "def make_bar_chart(in_df, col_xticklabels, col_yvals, col_series_categs=None, col_chart_title=None,\n",
    "                  single_series_name='', yval_numformat='numeric'):\n",
    "    # The Figure is like a canvas, and the Axes is a part of that canvas on \n",
    "    # which we will make a particular visualization.\n",
    "    fig, ax = plt.subplots()\n",
    "\n",
    "    # set the width of each bar\n",
    "    bar_width = 0.35\n",
    "\n",
    "    # the values that will be shown for each tick mark on the x axis\n",
    "    x_label_vals = in_df[col_xticklabels].unique()  # dfp['measure'].unique()\n",
    "    x_labels = ax.set_xticklabels(x_label_vals)\n",
    "\n",
    "    # the distance along the x axis at which the x-axis label will be placed\n",
    "    x_label_posns = [i + (bar_width/2) for i, v in enumerate(x_label_vals)]\n",
    "    ax.set_xticks(x_label_posns)\n",
    "\n",
    "    # set title, axis titles\n",
    "    if col_chart_title is not None:\n",
    "        chart_title = in_df[col_chart_title].iloc[0] # dfp['proj_desc'].iloc[0]\n",
    "    else:\n",
    "        chart_title = ''\n",
    "    axislabel_x = dfp[col_xticklabels].name\n",
    "    axislabel_y = dfp[col_yvals].name # dfp['value'].name\n",
    "\n",
    "    ax.set_title(chart_title)\n",
    "    ax.set_xlabel(axislabel_x)\n",
    "    ax.set_ylabel(axislabel_y)\n",
    "\n",
    "    # these values will be a different color on the bar chart\n",
    "    if col_series_categs is not None:\n",
    "        data_series = in_df[col_series_categs].unique()  # dfp['data_year'].unique()\n",
    "    else:\n",
    "        data_series = [single_series_name] # for single series (ie., not series grouped together by xticks)\n",
    "        \n",
    "    # format how numbers will appear in the chart\n",
    "    \n",
    "        \n",
    "\n",
    "    for x_posn, series_val in enumerate(data_series):\n",
    "\n",
    "        # make sure each color in the series is visible and right next\n",
    "        # to the previous color, immediatly to the right\n",
    "        adder = x_posn * bar_width\n",
    "        x_locns =  [i + adder for i, v in enumerate(x_label_posns)] # [i + adder for i, v in enumerate(dfi['measure'])]\n",
    "\n",
    "        # add the values for that series to the bar chart\n",
    "        if col_series_categs is not None:\n",
    "            df_seriesfilter = in_df.loc[dfp[col_series_categs] == series_val]\n",
    "        else:\n",
    "            df_seriesfilter = in_df\n",
    "\n",
    "        bar_rectangles = ax.bar(x_locns, df_seriesfilter[col_yvals], bar_width)\n",
    "\n",
    "        # add annotations to each bar showing each bar's value for each bar within the data series\n",
    "        for bar_rect in bar_rectangles:\n",
    "            offset_x = 0 # horizontal offset, in chart units\n",
    "            offset_y = .05 # vertical offset, in chart units\n",
    "\n",
    "            data_val = bar_rect.get_height() \n",
    "            label_x_pos = bar_rect.get_x() + bar_rect.get_width() / 2\n",
    "\n",
    "            # ax.annotate(<val to show>, x/y position of text label)\n",
    "            ax.annotate(s=f\"{data_val}\", xy=(label_x_pos, data_val),\n",
    "                       xytext=(label_x_pos + offset_x, data_val + offset_y),\n",
    "                       horizontalalignment='center', verticalalignment='bottom' ,rotation=90)\n",
    "                        # xycoords=(label_x_pos + offset_x, data_val + offset_y)) \n",
    "\n",
    "            # all annotate params before xytext arg - https://matplotlib.org/3.3.0/api/_as_gen/matplotlib.axes.Axes.annotate.html\n",
    "            # all annotate params after xytext arg - https://matplotlib.org/3.3.0/api/text_api.html#matplotlib.text.Text\n",
    "\n",
    "\n",
    "    plt.show()\n",
    "\n",
    "# make_bar_chart(in_df, col_xticklabels, col_yvals, col_series_categs=None, col_chart_title=None, single_series_name='')\n",
    "make_bar_chart(dfp, 'measure', 'value', col_series_categs='data_year', col_chart_title='proj_desc',\n",
    "                  single_series_name='')"
   ]
  },
  {
   "cell_type": "code",
   "execution_count": 10,
   "metadata": {},
   "outputs": [
    {
     "ename": "NameError",
     "evalue": "name 'df_seriesfilter' is not defined",
     "output_type": "error",
     "traceback": [
      "\u001b[0;31m---------------------------------------------------------------------------\u001b[0m",
      "\u001b[0;31mNameError\u001b[0m                                 Traceback (most recent call last)",
      "\u001b[0;32m<ipython-input-10-6d99044e9616>\u001b[0m in \u001b[0;36m<module>\u001b[0;34m\u001b[0m\n\u001b[0;32m----> 1\u001b[0;31m \u001b[0mdf_seriesfilter\u001b[0m\u001b[0;34m.\u001b[0m\u001b[0mhead\u001b[0m\u001b[0;34m(\u001b[0m\u001b[0;34m)\u001b[0m\u001b[0;34m\u001b[0m\u001b[0;34m\u001b[0m\u001b[0m\n\u001b[0m",
      "\u001b[0;31mNameError\u001b[0m: name 'df_seriesfilter' is not defined"
     ]
    }
   ],
   "source": [
    "df_seriesfilter.head()"
   ]
  }
 ],
 "metadata": {
  "kernelspec": {
   "display_name": "Python 3",
   "language": "python",
   "name": "python3"
  },
  "language_info": {
   "codemirror_mode": {
    "name": "ipython",
    "version": 3
   },
   "file_extension": ".py",
   "mimetype": "text/x-python",
   "name": "python",
   "nbconvert_exporter": "python",
   "pygments_lexer": "ipython3",
   "version": "3.7.6"
  }
 },
 "nbformat": 4,
 "nbformat_minor": 4
}

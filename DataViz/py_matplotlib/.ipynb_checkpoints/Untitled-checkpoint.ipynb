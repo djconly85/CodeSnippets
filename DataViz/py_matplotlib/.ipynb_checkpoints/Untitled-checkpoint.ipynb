{
 "cells": [
  {
   "cell_type": "code",
   "execution_count": null,
   "metadata": {},
   "outputs": [],
   "source": [
    "import pandas as pd\n",
    "import matplotlib\n",
    "\n",
    "\n",
    "# read in sample CSV\n",
    "in_csv = r\"C:\\Users\\dconly\\GitRepos\\CodeSnippets\\DataViz\\py_matplotlib\\sample_data_csvs\\speed_data_x_project.csv\"\n",
    "data_all = pd.read_csv(in_csv)\n",
    "\n",
    "# make sample for a single subsection of table to chart\n",
    "col_pnum = 'proj_inum'\n",
    "df_p1 = data_all.loc[data_all[col_pnum] == 1]\n"
   ]
  },
  {
   "cell_type": "code",
   "execution_count": null,
   "metadata": {},
   "outputs": [],
   "source": [
    "ax_bar = df_p1.plot(kind='bar', x=x_cat_col, y=y_vals_col, title=chart_title,\n",
    "                  legend=None)"
   ]
  }
 ],
 "metadata": {
  "kernelspec": {
   "display_name": "Python 3",
   "language": "python",
   "name": "python3"
  },
  "language_info": {
   "codemirror_mode": {
    "name": "ipython",
    "version": 3
   },
   "file_extension": ".py",
   "mimetype": "text/x-python",
   "name": "python",
   "nbconvert_exporter": "python",
   "pygments_lexer": "ipython3",
   "version": "3.6.10"
  }
 },
 "nbformat": 4,
 "nbformat_minor": 4
}
